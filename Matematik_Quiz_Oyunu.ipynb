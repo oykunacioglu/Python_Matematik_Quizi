{
  "nbformat": 4,
  "nbformat_minor": 0,
  "metadata": {
    "colab": {
      "provenance": [],
      "authorship_tag": "ABX9TyPVRbnXArptqj8LABCx3YHT",
      "include_colab_link": true
    },
    "kernelspec": {
      "name": "python3",
      "display_name": "Python 3"
    },
    "language_info": {
      "name": "python"
    }
  },
  "cells": [
    {
      "cell_type": "markdown",
      "metadata": {
        "id": "view-in-github",
        "colab_type": "text"
      },
      "source": [
        "<a href=\"https://colab.research.google.com/github/oykunacioglu/Python_Matematik_Quizi/blob/main/Matematik_Quiz_Oyunu.ipynb\" target=\"_parent\"><img src=\"https://colab.research.google.com/assets/colab-badge.svg\" alt=\"Open In Colab\"/></a>"
      ]
    },
    {
      "cell_type": "code",
      "execution_count": null,
      "metadata": {
        "colab": {
          "base_uri": "https://localhost:8080/"
        },
        "id": "OVIamSNSy-lS",
        "outputId": "ff6059e6-a991-410b-a085-bf5bcf1aed6e"
      },
      "outputs": [
        {
          "output_type": "stream",
          "name": "stdout",
          "text": [
            "matematik oyununa hoş geldiniz\n",
            "matematik sorularıyla yüzleşeceksiniz,doğru cevabı vermeniz lazım\n",
            "soru 1: 6 * 4 \n",
            "cevabınızı giriniz: 24\n",
            "doğru\n",
            "soru 2: 4 * 10 \n",
            "cevabınızı giriniz: 40\n",
            "doğru\n",
            "soru 3: 3 + 4 \n",
            "cevabınızı giriniz: 7\n",
            "doğru\n",
            "soru 4: 5 + 4 \n",
            "cevabınızı giriniz: 9\n",
            "doğru\n",
            "soru 5: 1 * 2 \n",
            "cevabınızı giriniz: 2\n",
            "doğru\n",
            "oyun bitti\n",
            "skorunuz: 5/5\n",
            "bravo hepsi doğru\n"
          ]
        }
      ],
      "source": [
        "#basit matematik oyunu\n",
        "import random\n",
        "#adım 1: matematik soru fonksiyonunu tanımla\n",
        "def yarat_soru():\n",
        "    sayi1=random.randint(1,10)\n",
        "    sayi2=random.randint(1,10)#1'den 10'a kadar rastgele sayı ver\n",
        "    islem=random.choice([\"+\",\"-\",\"*\"])\n",
        "\n",
        "    if islem==\"+\":\n",
        "        cevap=sayi1+sayi2\n",
        "    elif islem==\"-\":\n",
        "        cevap=sayi1-sayi2\n",
        "    elif islem==\"*\":\n",
        "        cevap=sayi1*sayi2\n",
        "    return f\"{sayi1} {islem} {sayi2} \",cevap\n",
        "#adım 2 : oyunun döngüsünü tanımla\n",
        "def matematik_quizi():\n",
        "  skor = 0\n",
        "  tur = 5\n",
        "\n",
        "  print(\"matematik oyununa hoş geldiniz\")\n",
        "  print(\"matematik sorularıyla yüzleşeceksiniz,doğru cevabı vermeniz lazım,\")\n",
        "\n",
        "  for i in range(tur):\n",
        "    soru,doğru_cevaplar = yarat_soru()\n",
        "    print(f\"soru {i+1}: {soru}\")\n",
        "    cevap = int(input(\"cevabınızı giriniz: \"))\n",
        "\n",
        "    if cevap == doğru_cevaplar:\n",
        "      print(\"doğru\")\n",
        "      skor += 1\n",
        "    else:\n",
        "      print(f\"yanlış doğru cevap {doğru_cevaplar} idi\")\n",
        "\n",
        "  print(\"oyun bitti\")\n",
        "  print(f\"skorunuz: {skor}/{tur}\")\n",
        "\n",
        "  if skor== tur:\n",
        "    print(\"bravo hepsi doğru\")\n",
        "  elif skor>= tur //2:\n",
        "    print(\"iyi iş çıkardın\")\n",
        "  else:\n",
        "    print(\"denemeye devaö et daha iyisi olacağına eminim\")\n",
        "\n",
        "#adım 3 oyunu çalıştır\n",
        "matematik_quizi()"
      ]
    }
  ]
}